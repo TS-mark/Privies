{
 "cells": [
  {
   "cell_type": "code",
   "execution_count": 2,
   "metadata": {},
   "outputs": [],
   "source": [
    "# 加载环境变量\n",
    "import os\n",
    "# import openai\n",
    "from openai import OpenAI\n",
    "import json\n",
    "# from dotenv import load_dotenv, find_dotenv\n",
    "# _ = load_dotenv(find_dotenv())  # 读取本地 .env 文件，里面定义了 OPENAI_API_KEY\n",
    "\n",
    "client = OpenAI(\n",
    "    api_key=os.environ[\"OPENAI_API_KEY\"],\n",
    "    base_url=os.environ[\"OPENAI_BASE_URL\"]\n",
    ")\n",
    "\n",
    "# 得到生成文本输出\n",
    "def get_completion(prompt, model=\"gpt-3.5-turbo\"):\n",
    "    messages = [{\"role\": \"user\", \"content\": prompt}]\n",
    "    response = client.chat.completions.create(\n",
    "        model=model,\n",
    "        messages=messages,\n",
    "        temperature=0,  # 模型输出的随机性，0 表示随机性最小\n",
    "    )\n",
    "    return response.choices[0].message.content"
   ]
  },
  {
   "cell_type": "code",
   "execution_count": 3,
   "metadata": {},
   "outputs": [
    {
     "name": "stdout",
     "output_type": "stream",
     "text": [
      "====GPT回复====\n",
      "ChatCompletionMessage(content=None, role='assistant', function_call=None, tool_calls=[ChatCompletionMessageToolCall(id='call_V5VYkgCymIHUQb3YkM6r72o1', function=Function(arguments='{\"name\":\"王卓然\",\"address\":\"北京市朝阳区亮马桥外交办公大楼\",\"tel\":\"13012345678\"}', name='add_contact'), type='function')])\n",
      "====函数参数====\n",
      "{'name': '王卓然', 'address': '北京市朝阳区亮马桥外交办公大楼', 'tel': '13012345678'}\n"
     ]
    }
   ],
   "source": [
    "def get_completion(messages, model=\"gpt-3.5-turbo-1106\"):\n",
    "    response = client.chat.completions.create(\n",
    "        model=model,\n",
    "        messages=messages,\n",
    "        temperature=0,  # 模型输出的随机性，0 表示随机性最小\n",
    "        tools=[{\n",
    "            \"type\": \"function\",\n",
    "            \"function\": {\n",
    "                \"name\": \"add_contact\",\n",
    "                \"description\": \"添加联系人\",\n",
    "                \"parameters\": {\n",
    "                    \"type\": \"object\",\n",
    "                    \"properties\": {\n",
    "                        \"name\": {\n",
    "                            \"type\": \"string\",\n",
    "                            \"description\": \"联系人姓名\"\n",
    "                        },\n",
    "                        \"address\": {\n",
    "                            \"type\": \"string\",\n",
    "                            \"description\": \"联系人地址\"\n",
    "                        },\n",
    "                        \"tel\": {\n",
    "                            \"type\": \"string\",\n",
    "                            \"description\": \"联系人电话\"\n",
    "                        },\n",
    "                    }\n",
    "                }\n",
    "            }\n",
    "        }],\n",
    "    )\n",
    "    return response.choices[0].message\n",
    "\n",
    "\n",
    "prompt = \"帮我寄给王卓然，地址是北京市朝阳区亮马桥外交办公大楼，电话13012345678。\"\n",
    "messages = [\n",
    "    {\"role\": \"system\", \"content\": \"你是一个联系人录入员。\"},\n",
    "    {\"role\": \"user\", \"content\": prompt}\n",
    "]\n",
    "response = get_completion(messages)\n",
    "print(\"====GPT回复====\")\n",
    "print(response)\n",
    "args = json.loads(response.tool_calls[0].function.arguments)\n",
    "print(\"====函数参数====\")\n",
    "print(args)"
   ]
  },
  {
   "cell_type": "code",
   "execution_count": null,
   "metadata": {},
   "outputs": [],
   "source": [
    "ChatCompletionMessage(content=None, role='assistant', function_call=None, tool_calls=[ChatCompletionMessageToolCall(id='call_V5VYkgCymIHUQb3YkM6r72o1', function=Function(arguments='{\"name\":\"王卓然\",\"address\":\"北京市朝阳区亮马桥外交办公大楼\",\"tel\":\"13012345678\"}', name='add_contact'), type='function')])\n"
   ]
  }
 ],
 "metadata": {
  "kernelspec": {
   "display_name": "Python 3",
   "language": "python",
   "name": "python3"
  },
  "language_info": {
   "codemirror_mode": {
    "name": "ipython",
    "version": 3
   },
   "file_extension": ".py",
   "mimetype": "text/x-python",
   "name": "python",
   "nbconvert_exporter": "python",
   "pygments_lexer": "ipython3",
   "version": "3.10.8"
  },
  "orig_nbformat": 4
 },
 "nbformat": 4,
 "nbformat_minor": 2
}
