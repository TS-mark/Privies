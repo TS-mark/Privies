{
 "cells": [
  {
   "cell_type": "code",
   "execution_count": null,
   "metadata": {},
   "outputs": [],
   "source": [
    "# 加载环境变量\n",
    "import os\n",
    "# import openai\n",
    "from openai import OpenAI\n",
    "# from dotenv import load_dotenv, find_dotenv\n",
    "# _ = load_dotenv(find_dotenv())  # 读取本地 .env 文件，里面定义了 OPENAI_API_KEY\n",
    "\n",
    "client = OpenAI(\n",
    "    api_key=os.environ[\"OPENAI_API_KEY\"],\n",
    "    base_url=os.environ[\"OPENAI_BASE_URL\"]\n",
    ")\n",
    "\n",
    "# 得到生成文本输出\n",
    "def get_completion(prompt, model=\"gpt-3.5-turbo\"):\n",
    "    messages = [{\"role\": \"user\", \"content\": prompt}]\n",
    "    response = client.chat.completions.create(\n",
    "        model=model,\n",
    "        messages=messages,\n",
    "        temperature=0,  # 模型输出的随机性，0 表示随机性最小\n",
    "    )\n",
    "    return response.choices[0].message.content"
   ]
  },
  {
   "cell_type": "code",
   "execution_count": null,
   "metadata": {},
   "outputs": [],
   "source": [
    "# prompt = \"\"\"你知道图像算法中有哪些backbone，主要用于目标检测、目标分割和图像分类？请输出你知道的所有的backbone,同时输出它应用于哪些任务。至少80个，如果没有100个的话就尽可能输出你目前知道的所有backbone网络结构\"\"\"\n",
    "# response = get_completion(prompt, \"gpt-4\")\n",
    "# print(response)"
   ]
  },
  {
   "cell_type": "markdown",
   "metadata": {},
   "source": [
    "## openAI 告诉我的\n",
    "\n",
    "1. VGG16: 用于目标检测、目标分割和图像分类\n",
    "2. VGG19: 用于目标检测、目标分割和图像分类\n",
    "3. ResNet50: 用于目标检测、目标分割和图像分类\n",
    "4. ResNet101: 用于目标检测、目标分割和图像分类\n",
    "5. ResNet152: 用于目标检测、目标分割和图像分类\n",
    "6. ResNeXt50: 用于目标检测、目标分割和图像分类\n",
    "7. ResNeXt101: 用于目标检测、目标分割和图像分类\n",
    "8. DenseNet121: 用于目标检测、目标分割和图像分类\n",
    "9. DenseNet169: 用于目标检测、目标分割和图像分类\n",
    "10. DenseNet201: 用于目标检测、目标分割和图像分类\n",
    "11. InceptionV3: 用于目标检测、目标分割和图像分类\n",
    "12. InceptionResNetV2: 用于目标检测、目标分割和图像分类\n",
    "13. Xception: 用于目标检测、目标分割和图像分类\n",
    "14. MobileNet: 用于目标检测、目标分割和图像分类\n",
    "15. MobileNetV2: 用于目标检测、目标分割和图像分类\n",
    "16. NASNet: 用于目标检测、目标分割和图像分类\n",
    "17. PNASNet: 用于目标检测、目标分割和图像分类\n",
    "18. ShuffleNet: 用于目标检测、目标分割和图像分类\n",
    "19. ShuffleNetV2: 用于目标检测、目标分割和图像分类\n",
    "20. MnasNet: 用于目标检测、目标分割和图像分类\n",
    "21. EfficientNet: 用于目标检测、目标分割和图像分类\n",
    "22. HRNet: 用于目标检测、目标分割和图像分类\n",
    "23. SENet: 用于目标检测、目标分割和图像分类\n",
    "24. Darknet: 用于目标检测\n",
    "25. YOLOv3: 用于目标检测\n",
    "26. YOLOv4: 用于目标检测\n",
    "27. YOLOv5: 用于目标检测\n",
    "28. SSD: 用于目标检测\n",
    "29. RetinaNet: 用于目标检测\n",
    "30. Faster R-CNN: 用于目标检测\n",
    "31. Mask R-CNN: 用于目标检测和目标分割\n",
    "32. FCN: 用于目标分割\n",
    "33. U-Net: 用于目标分割\n",
    "34. PSPNet: 用于目标分割\n",
    "35. DeepLabV3: 用于目标分割\n",
    "36. DeepLabV3+: 用于目标分割\n",
    "37. SqueezeNet: 用于图像分类\n",
    "38. AlexNet: 用于图像分类\n",
    "39. GoogLeNet: 用于图像分类\n",
    "40. ZFNet: 用于图像分类"
   ]
  },
  {
   "cell_type": "code",
   "execution_count": null,
   "metadata": {},
   "outputs": [],
   "source": [
    "# 目前认为的prompt内容\n",
    "task = \"generate_filepath\"\n",
    "instruction = f\"\"\"任务描述：根据{task}.md文档中的内容，输出用来生成对应目录的python文件，可以使用shutil包或者os包\"\"\"\n",
    "extra = \"根目录Privies已存在不需生成该目录，代码尽量简短\"\n",
    "\n",
    "\n",
    "\n",
    "with open(f\"./instruction/{task}.md\", \"r\") as f:\n",
    "    file = f.read()\n",
    "\n",
    "prompt = f\"\"\"\n",
    "任务描述：\n",
    "{instruction}\n",
    "\n",
    "文件：{task}.md\n",
    "{file}\n",
    "\n",
    "其他特殊要求：\n",
    "{extra}\n",
    "\"\"\"\n",
    "response = get_completion(prompt) # 这句话烧钱"
   ]
  },
  {
   "cell_type": "code",
   "execution_count": null,
   "metadata": {},
   "outputs": [],
   "source": [
    "# 如果确认没有问题，可以按照代码进行生成了，这一步之前必须要确认输出是否正确\n",
    "walala = f\"./generate_fromAI/{task}.py\"\n",
    "!python {walala}"
   ]
  }
 ],
 "metadata": {
  "language_info": {
   "name": "python"
  }
 },
 "nbformat": 4,
 "nbformat_minor": 2
}
